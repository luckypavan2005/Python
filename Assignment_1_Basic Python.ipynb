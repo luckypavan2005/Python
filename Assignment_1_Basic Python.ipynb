{
 "cells": [
  {
   "cell_type": "markdown",
   "metadata": {},
   "source": [
    "Assignment 1: Introduction to Python"
   ]
  },
  {
   "cell_type": "markdown",
   "metadata": {},
   "source": [
    "Task 1: Compare two Lists"
   ]
  },
  {
   "cell_type": "code",
   "execution_count": 1,
   "metadata": {},
   "outputs": [
    {
     "name": "stdout",
     "output_type": "stream",
     "text": [
      "<class 'list'>\n",
      "<class 'list'>\n",
      "L1 element is less than L2 element\n",
      "L1 element is less than L2 element\n",
      "L1 element is less than L2 element\n",
      "L1 element is greater than L2 element\n",
      "L1 element is greater than L2 element\n",
      "L1 element is greater than L2 element\n"
     ]
    }
   ],
   "source": [
    "l1 = [1, 2, 3, 4, 5, 6]\n",
    "l2 = [6, 5, 4, 3, 2, 1]\n",
    "\n",
    "print(type(l1))\n",
    "print(type(l2))\n",
    "\n",
    "for index in range(0, len(l1)):\n",
    "    if l1[index] > l2[index]: \n",
    "        print(\"L1 element is greater than L2 element\")      \n",
    "    elif l1[index] == l2[index]: \n",
    "        print(\"L1 element is equal L2 element\")       \n",
    "    else: \n",
    "        print(\"L1 element is less than L2 element\")\n",
    "       "
   ]
  },
  {
   "cell_type": "markdown",
   "metadata": {},
   "source": [
    "Task 2: Add 5 more to each individual element of a Tuple"
   ]
  },
  {
   "cell_type": "code",
   "execution_count": 2,
   "metadata": {},
   "outputs": [
    {
     "name": "stdout",
     "output_type": "stream",
     "text": [
      "<class 'list'>\n",
      "(15, 25, 35, 45, 55)\n"
     ]
    }
   ],
   "source": [
    "val1 = (10, 20, 30, 40, 50)\n",
    "\n",
    "# Covert the tuple to a list\n",
    "\n",
    "val1 = list(val1)\n",
    "print (type(val1))\n",
    "\n",
    "for index in range(len(val1)): val1[index] += 5\n",
    "    \n",
    "val1 = tuple(val1)\n",
    "print(val1)\n"
   ]
  },
  {
   "cell_type": "markdown",
   "metadata": {},
   "source": [
    "Task 3: Create a User-Defined Function \"add_10()\""
   ]
  },
  {
   "cell_type": "code",
   "execution_count": 3,
   "metadata": {},
   "outputs": [
    {
     "name": "stdout",
     "output_type": "stream",
     "text": [
      "15\n",
      "-5\n"
     ]
    }
   ],
   "source": [
    "def add_10(num):\n",
    "    return num + 5\n",
    "\n",
    "print(add_10(10))\n",
    "print(add_10(-10))\n",
    "    "
   ]
  },
  {
   "cell_type": "markdown",
   "metadata": {},
   "source": [
    "Task 4: Create a user defined fuction to check even and odd numbers"
   ]
  },
  {
   "cell_type": "code",
   "execution_count": 4,
   "metadata": {},
   "outputs": [
    {
     "name": "stdout",
     "output_type": "stream",
     "text": [
      "Entered number 4 is Even Number\n",
      "Entered number 9 is Odd Number\n"
     ]
    }
   ],
   "source": [
    "def check_odd_even(num):\n",
    "    if num % 2 == 0:\n",
    "        return \"Entered number {} is Even Number\".format(num)\n",
    "    else:\n",
    "        return \"Entered number {} is Odd Number\".format(num)\n",
    "    \n",
    "print(check_odd_even(4))\n",
    "print(check_odd_even(9))"
   ]
  }
 ],
 "metadata": {
  "kernelspec": {
   "display_name": "Python 3",
   "language": "python",
   "name": "python3"
  },
  "language_info": {
   "codemirror_mode": {
    "name": "ipython",
    "version": 3
   },
   "file_extension": ".py",
   "mimetype": "text/x-python",
   "name": "python",
   "nbconvert_exporter": "python",
   "pygments_lexer": "ipython3",
   "version": "3.7.4"
  }
 },
 "nbformat": 4,
 "nbformat_minor": 2
}
